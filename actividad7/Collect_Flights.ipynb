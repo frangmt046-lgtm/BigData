{
 "cells": [
  {
   "cell_type": "code",
   "execution_count": 1,
   "id": "55d394e6",
   "metadata": {},
   "outputs": [],
   "source": [
    "# Librerias a utilizar\n",
    "import requests\n",
    "import json\n",
    "from IPython.display import JSON\n",
    "from keys import *"
   ]
  },
  {
   "cell_type": "code",
   "execution_count": null,
   "id": "77bd6487",
   "metadata": {},
   "outputs": [],
   "source": [
    "# Realizamos la peticion a la API\n",
    "url = \"https://aerodatabox.p.rapidapi.com/flights/airports/icao/MMMX/2025-09-01T08:00/2025-09-01T20:00\"\n",
    "\n",
    "# Se asignan los parametros de la peticion\n",
    "querystring = {\"withLeg\":\"true\",\"direction\":\"Arrival\",\"withCancelled\":\"true\",\"withCodeshared\":\"true\",\"withCargo\":\"true\",\"withPrivate\":\"true\",\"withLocation\":\"false\"}\n",
    "\n",
    "headers = {\n",
    "    'x-rapidapi-host': \"aerodatabox.p.rapidapi.com\",\n",
    "    'x-rapidapi-key': flights_key\n",
    "    }\n",
    "\n",
    "response = requests.request(\"GET\", url, headers=headers, params=querystring)"
   ]
  },
  {
   "cell_type": "code",
   "execution_count": null,
   "id": "1fad115c",
   "metadata": {},
   "outputs": [
    {
     "name": "stdout",
     "output_type": "stream",
     "text": [
      "Data appended to data.json file.\n"
     ]
    }
   ],
   "source": [
    "# Verificamos si la peticion fue exitosa\n",
    "\n",
    "if response.status_code == 200:\n",
    "    new_data = response.json()\n",
    "\n",
    "    try:\n",
    "        with open(\"data.json\", \"r\") as json_file:\n",
    "            existing_data = json.load(json_file)\n",
    "    except (FileNotFoundError, json.decoder.JSONDecodeError):\n",
    "        existing_data = []\n",
    "\n",
    "    existing_data.append(new_data)\n",
    "\n",
    "    with open(\"data.json\", \"w\") as json_file:\n",
    "        json.dump(existing_data, json_file, indent=4)\n",
    "        print(\"Data appended to data.json file.\")\n",
    "else:\n",
    "    print(\"Failed to retrieve data from the API. Status code:\", response.status_code)"
   ]
  },
  {
   "cell_type": "code",
   "execution_count": null,
   "id": "63f3168a",
   "metadata": {},
   "outputs": [],
   "source": [
    "# Mostrar la data en formato JSON\n",
    "\n",
    "flight_arrivals = response.json()\n",
    "\n",
    "for flight in flight_arrivals:\n",
    "    flight_arrivals['arrivals'][0]['arrival']['scheduledTime']\n",
    "    flight_arrivals['arrivals'][0]['number']\n",
    "    flight_arrivals['arrivals'][0]['arrival']['terminal']\n",
    "    flight_arrivals['arrivals'][0]['departure']['airport']['name']\n",
    "    flight_arrivals['arrivals'][0]['aircraft']['model']\n",
    "    flight_arrivals['arrivals'][0]['airline']['name']"
   ]
  },
  {
   "cell_type": "code",
   "execution_count": null,
   "id": "d1734f2b",
   "metadata": {},
   "outputs": [
    {
     "data": {
      "text/html": [
       "<div>\n",
       "<style scoped>\n",
       "    .dataframe tbody tr th:only-of-type {\n",
       "        vertical-align: middle;\n",
       "    }\n",
       "\n",
       "    .dataframe tbody tr th {\n",
       "        vertical-align: top;\n",
       "    }\n",
       "\n",
       "    .dataframe thead th {\n",
       "        text-align: right;\n",
       "    }\n",
       "</style>\n",
       "<table border=\"1\" class=\"dataframe\">\n",
       "  <thead>\n",
       "    <tr style=\"text-align: right;\">\n",
       "      <th></th>\n",
       "      <th>flight_number</th>\n",
       "      <th>from</th>\n",
       "      <th>airline</th>\n",
       "      <th>aircraft</th>\n",
       "      <th>Scheduled_arrival_time.utc</th>\n",
       "      <th>Scheduled_arrival_time.local</th>\n",
       "    </tr>\n",
       "  </thead>\n",
       "  <tbody>\n",
       "    <tr>\n",
       "      <th>0</th>\n",
       "      <td>UA 1024</td>\n",
       "      <td>Houston</td>\n",
       "      <td>United</td>\n",
       "      <td>Boeing 737-700</td>\n",
       "      <td>2025-09-01 14:35Z</td>\n",
       "      <td>2025-09-01 08:35-06:00</td>\n",
       "    </tr>\n",
       "    <tr>\n",
       "      <th>0</th>\n",
       "      <td>AM 905</td>\n",
       "      <td>Monterrey</td>\n",
       "      <td>Aeromexico</td>\n",
       "      <td>Boeing 737-900</td>\n",
       "      <td>2025-09-01 14:30Z</td>\n",
       "      <td>2025-09-01 08:30-06:00</td>\n",
       "    </tr>\n",
       "    <tr>\n",
       "      <th>0</th>\n",
       "      <td>AM 505</td>\n",
       "      <td>Cancún</td>\n",
       "      <td>Aeromexico</td>\n",
       "      <td>Boeing 737-800</td>\n",
       "      <td>2025-09-01 14:30Z</td>\n",
       "      <td>2025-09-01 08:30-06:00</td>\n",
       "    </tr>\n",
       "    <tr>\n",
       "      <th>0</th>\n",
       "      <td>AM 205</td>\n",
       "      <td>Guadalajara</td>\n",
       "      <td>Aeromexico</td>\n",
       "      <td>Boeing 737</td>\n",
       "      <td>2025-09-01 14:35Z</td>\n",
       "      <td>2025-09-01 08:35-06:00</td>\n",
       "    </tr>\n",
       "    <tr>\n",
       "      <th>0</th>\n",
       "      <td>VB 1355</td>\n",
       "      <td>Monterrey</td>\n",
       "      <td>VivaAerobus</td>\n",
       "      <td>Airbus A321 NEO</td>\n",
       "      <td>2025-09-01 14:40Z</td>\n",
       "      <td>2025-09-01 08:40-06:00</td>\n",
       "    </tr>\n",
       "  </tbody>\n",
       "</table>\n",
       "</div>"
      ],
      "text/plain": [
       "  flight_number         from      airline         aircraft  \\\n",
       "0       UA 1024      Houston       United   Boeing 737-700   \n",
       "0        AM 905    Monterrey   Aeromexico   Boeing 737-900   \n",
       "0        AM 505       Cancún   Aeromexico   Boeing 737-800   \n",
       "0        AM 205  Guadalajara   Aeromexico       Boeing 737   \n",
       "0       VB 1355    Monterrey  VivaAerobus  Airbus A321 NEO   \n",
       "\n",
       "  Scheduled_arrival_time.utc Scheduled_arrival_time.local  \n",
       "0          2025-09-01 14:35Z       2025-09-01 08:35-06:00  \n",
       "0          2025-09-01 14:30Z       2025-09-01 08:30-06:00  \n",
       "0          2025-09-01 14:30Z       2025-09-01 08:30-06:00  \n",
       "0          2025-09-01 14:35Z       2025-09-01 08:35-06:00  \n",
       "0          2025-09-01 14:40Z       2025-09-01 08:40-06:00  "
      ]
     },
     "execution_count": 30,
     "metadata": {},
     "output_type": "execute_result"
    }
   ],
   "source": [
    "import pandas as pd\n",
    "from numpy import nan\n",
    "\n",
    "flight_arrivals = response.json()\n",
    "\n",
    "# Extraemos la informacion relevante de cada vuelo\n",
    "def flight_extraction(flights):\n",
    "    flights_df = pd.json_normalize({\n",
    "        'Scheduled_arrival_time': flights['arrival']['scheduledTime'],\n",
    "        'flight_number': flights['number'],\n",
    "        'from' : flights['departure']['airport']['name'],\n",
    "        'airline' : flights['airline']['name'],\n",
    "        'aircraft' : flights['aircraft']['model']\n",
    "    })\n",
    "    return(flights_df)\n",
    "\n",
    "# Concatenamos la informacion de todos los vuelos en un solo DataFrame\n",
    "flight_arrivals = pd.concat(\n",
    "    [flight_extraction(flight) for flight in flight_arrivals['arrivals']]\n",
    ")\n",
    "\n",
    "flight_arrivals.head()"
   ]
  }
 ],
 "metadata": {
  "kernelspec": {
   "display_name": "Python 3",
   "language": "python",
   "name": "python3"
  },
  "language_info": {
   "codemirror_mode": {
    "name": "ipython",
    "version": 3
   },
   "file_extension": ".py",
   "mimetype": "text/x-python",
   "name": "python",
   "nbconvert_exporter": "python",
   "pygments_lexer": "ipython3",
   "version": "3.11.9"
  }
 },
 "nbformat": 4,
 "nbformat_minor": 5
}
